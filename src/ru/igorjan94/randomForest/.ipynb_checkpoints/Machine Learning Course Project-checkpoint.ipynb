{
 "cells": [
  {
   "cell_type": "code",
   "execution_count": 4,
   "metadata": {},
   "outputs": [
    {
     "name": "stdout",
     "output_type": "stream",
     "text": [
      "Count of parts: 2\n",
      "Decision trees: 5\n",
      "Train size:   100, test size   100\n",
      "Max result:\n",
      "F = 0.47, P = 0.70, R = 0.36, C = 0.73\n",
      "Average:\n",
      "F = 0.49, P = 0.66, R = 0.39, C = 0.69\n",
      "test time = 18.511\n",
      "\n"
     ]
    }
   ],
   "source": [
    "import subprocess\n",
    "result = subprocess.check_output(['java', '-cp', '../../../../out', 'ru.igorjan94.randomForest.Main'])\n",
    "print(\"\".join(map(chr, result)))"
   ]
  },
  {
   "cell_type": "code",
   "execution_count": 5,
   "metadata": {},
   "outputs": [
    {
     "name": "stdout",
     "output_type": "stream",
     "text": [
      "Count of parts: 5\n",
      "Decision trees: 5\n",
      "Train size:    40, test size   160\n",
      "Max result:\n",
      "F = 0.47, P = 0.63, R = 0.37, C = 0.66\n",
      "Average:\n",
      "F = 0.48, P = 0.55, R = 0.43, C = 0.60\n",
      "test time = 8.154\n",
      "\n"
     ]
    }
   ],
   "source": [
    "import subprocess\n",
    "result = subprocess.check_output(['java', '-cp', '../../../../out', 'ru.igorjan94.randomForest.Main', '5'])\n",
    "print(\"\".join(map(chr, result)))"
   ]
  },
  {
   "cell_type": "code",
   "execution_count": 7,
   "metadata": {},
   "outputs": [
    {
     "name": "stdout",
     "output_type": "stream",
     "text": [
      "Count of parts: 5\n",
      "Decision trees: 10\n",
      "Train size:    40, test size   160\n",
      "Max result:\n",
      "F = 0.49, P = 0.71, R = 0.37, C = 0.74\n",
      "Average:\n",
      "F = 0.44, P = 0.62, R = 0.35, C = 0.64\n",
      "test time = 16.558\n",
      "\n"
     ]
    }
   ],
   "source": [
    "import subprocess\n",
    "result = subprocess.check_output(['java', '-cp', '../../../../out', 'ru.igorjan94.randomForest.Main', '5', '10'])\n",
    "print(\"\".join(map(chr, result)))"
   ]
  },
  {
   "cell_type": "code",
   "execution_count": 6,
   "metadata": {},
   "outputs": [
    {
     "name": "stdout",
     "output_type": "stream",
     "text": [
      "DecisionTreeClassifier: F = 0.404   P = 0.576   R = 0.311   C = 0.610\n",
      "Svm:                    F = 0.481   P = 0.788   R = 0.347   C = 0.750\n",
      "RandomForestClassifier: F = 0.491   P = 0.750   R = 0.365   C = 0.740\n"
     ]
    }
   ],
   "source": [
    "from sklearn import tree\n",
    "from sklearn.ensemble import RandomForestClassifier\n",
    "from sklearn.model_selection import cross_val_score\n",
    "from sklearn import svm\n",
    "\n",
    "path = 'trees/'\n",
    "\n",
    "def read(file):\n",
    "    features = list(map(lambda x: list(map(int, x[:-2].split(' '))), open(path + file + '.data').readlines()))\n",
    "    labels   = list(map(int, open(path + file + '.labels').readlines()))\n",
    "    return features, labels\n",
    "\n",
    "def getMetrics(values):\n",
    "    tp, tn, fp, fn = [0] * 4\n",
    "\n",
    "    for a, b in values:\n",
    "        if a == 1:\n",
    "            if b == 1: tp += 1\n",
    "            else: tn += 1\n",
    "        else:\n",
    "            if b == 1: fp += 1\n",
    "            else: fn += 1\n",
    "\n",
    "    p = tp / (tp + fp)\n",
    "    r = tp / (tp + fn)\n",
    "    f = 2 * (p * r) / (p + r)\n",
    "    c = (tp + fn) / (tp + tn + fp + fn)\n",
    "    return p, r, f, c\n",
    "\n",
    "X, Y = read('arcene_train')\n",
    "features, labels = read('arcene_valid')\n",
    "\n",
    "decisionTree = tree.DecisionTreeClassifier()\n",
    "decisionTree = decisionTree.fit(X, Y)\n",
    "predictions = decisionTree.predict(features)\n",
    "p, r, f, c = getMetrics(zip(labels, predictions))\n",
    "print('DecisionTreeClassifier: F = %4.3f   P = %4.3f   R = %4.3f   C = %4.3f' % (f, p, r, c))\n",
    "\n",
    "svm = RandomForestClassifier()\n",
    "svm = svm.fit(X, Y)\n",
    "predictions = svm.predict(features)\n",
    "p, r, f, c = getMetrics(zip(labels, predictions))\n",
    "print('Svm:                    F = %4.3f   P = %4.3f   R = %4.3f   C = %4.3f' % (f, p, r, c))\n",
    "\n",
    "randomForest = RandomForestClassifier()\n",
    "randomForest = randomForest.fit(X, Y)\n",
    "predictions = randomForest.predict(features)\n",
    "p, r, f, c = getMetrics(zip(labels, predictions))\n",
    "print('RandomForestClassifier: F = %4.3f   P = %4.3f   R = %4.3f   C = %4.3f' % (f, p, r, c))\n"
   ]
  }
 ],
 "metadata": {
  "anaconda-cloud": {},
  "kernelspec": {
   "display_name": "Python 3",
   "language": "python",
   "name": "python3"
  },
  "language_info": {
   "codemirror_mode": {
    "name": "ipython",
    "version": 3
   },
   "file_extension": ".py",
   "mimetype": "text/x-python",
   "name": "python",
   "nbconvert_exporter": "python",
   "pygments_lexer": "ipython3",
   "version": "3.6.1"
  }
 },
 "nbformat": 4,
 "nbformat_minor": 1
}
